{
 "cells": [
  {
   "cell_type": "code",
   "execution_count": null,
   "metadata": {},
   "outputs": [],
   "source": [
    "import pandas as pd\n",
    "import matplotlib.pyplot as plt\n",
    "from sklearn.tree import DecisionTreeClassifier\n",
    "from sklearn.ensemble import RandomForestClassifier\n",
    "from sklearn.model_selection import train_test_split\n",
    "from sklearn import linear_model,preprocessing\n",
    "import numpy as np\n",
    "import warnings\n",
    "warnings.filterwarnings(\"ignore\")"
   ]
  },
  {
   "cell_type": "code",
   "execution_count": null,
   "metadata": {},
   "outputs": [],
   "source": [
    "treino = pd.read_csv('../dS/train.csv')\n",
    "teste = pd.read_csv('../dS/test.csv')\n",
    "data_treino = treino.drop(['Name','Ticket','Cabin','PassengerId',],axis=True)\n",
    "data_test = teste.drop(['Name','Ticket','Cabin','PassengerId',],axis=True)\n",
    "data_treino.drop('Survived',axis=1).head(3)"
   ]
  },
  {
   "cell_type": "code",
   "execution_count": null,
   "metadata": {},
   "outputs": [],
   "source": [
    "data_treino = pd .get_dummies(data_treino)\n",
    "data_test = pd .get_dummies(data_test)\n",
    "data_treino['Age'].fillna(data_treino['Age'].mean(),inplace=True)\n",
    "data_treino['Fare'].fillna(data_treino['Fare'].mean(),inplace=True)\n",
    "data_treino.head(3)"
   ]
  },
  {
   "cell_type": "code",
   "execution_count": null,
   "metadata": {},
   "outputs": [],
   "source": [
    "np.random.seed(0)\n",
    "x_treino,x_valid=train_test_split(data_treino,test_size=0.5)\n",
    "x_treino1 = x_treino.drop('Survived',axis=True)\n",
    "x_valid1 = x_valid.drop('Survived',axis=True)"
   ]
  },
  {
   "cell_type": "code",
   "execution_count": null,
   "metadata": {},
   "outputs": [],
   "source": [
    "arvore= DecisionTreeClassifier(max_depth=5,random_state=0)\n",
    "arvore.fit(x_treino1,x_treino['Survived'])"
   ]
  },
  {
   "cell_type": "code",
   "execution_count": null,
   "metadata": {},
   "outputs": [],
   "source": [
    "#a = arvore.predict(x_valid1)\n",
    "#resultados = pd.DataFrame()\n",
    "#resultados['Previsto'] = a\n",
    "#np.mean(x_valid['Survived']==a)"
   ]
  },
  {
   "cell_type": "code",
   "execution_count": null,
   "metadata": {},
   "outputs": [],
   "source": [
    "performace = []\n",
    "ntreino = []\n",
    "for x in range(1,50):\n",
    "    arvore= DecisionTreeClassifier(max_depth=x,random_state=0)\n",
    "    arvore.fit(x_treino1,x_treino['Survived'])\n",
    "    a = arvore.predict(x_valid1)\n",
    "    resultados = pd.DataFrame()\n",
    "    resultados['Previsto'] = a\n",
    "    j = np.mean(x_valid['Survived']==a)\n",
    "    performace.append(j)\n",
    "    ntreino.append(x)\n",
    "    \n",
    "plt.plot(ntreino,performace, color='#2f9e41')\n",
    "plt.savefig('arvoreD.png')"
   ]
  },
  {
   "cell_type": "code",
   "execution_count": null,
   "metadata": {},
   "outputs": [],
   "source": [
    "rperformace = []\n",
    "rntreino = []\n",
    "for x in range(1,50):\n",
    "    rArvore = RandomForestClassifier(n_estimators=x,n_jobs=-1,random_state=0)\n",
    "    rArvore.fit(x_treino1,x_treino['Survived'])\n",
    "    a = rArvore.predict(x_valid1)\n",
    "    resultados = pd.DataFrame()\n",
    "    resultados['Previsto'] = a\n",
    "    j = np.mean(x_valid['Survived']==a)\n",
    "    rperformace.append(j)\n",
    "    rntreino.append(x)\n",
    "plt.plot(rntreino,rperformace, color='#2f9e41')    \n",
    "plt.savefig('florestaR.png')"
   ]
  },
  {
   "cell_type": "code",
   "execution_count": null,
   "metadata": {
    "scrolled": false
   },
   "outputs": [],
   "source": [
    "lperformace = []\n",
    "lntreino = []\n",
    "for x in range(1,20):\n",
    "    linha = linear_model.LogisticRegression()\n",
    "    linha.fit(x_treino1,x_treino['Survived'])\n",
    "    a = linha.predict(x_valid1)\n",
    "    resultados = pd.DataFrame()\n",
    "    resultados['Previsto'] = a\n",
    "    j = np.mean(x_valid['Survived']==a)\n",
    "    lperformace.append(j)\n",
    "    lntreino.append(x)\n",
    "plt.plot(lntreino,lperformace, color='#2f9e41')   \n",
    "plt.savefig('regressaoL.png')"
   ]
  }
 ],
 "metadata": {
  "kernelspec": {
   "display_name": "Python 3",
   "language": "python",
   "name": "python3"
  },
  "language_info": {
   "codemirror_mode": {
    "name": "ipython",
    "version": 3
   },
   "file_extension": ".py",
   "mimetype": "text/x-python",
   "name": "python",
   "nbconvert_exporter": "python",
   "pygments_lexer": "ipython3",
   "version": "3.7.3"
  }
 },
 "nbformat": 4,
 "nbformat_minor": 2
}
