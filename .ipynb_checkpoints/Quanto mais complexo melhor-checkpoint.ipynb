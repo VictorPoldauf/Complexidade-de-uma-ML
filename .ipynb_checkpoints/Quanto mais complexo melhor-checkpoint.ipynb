{
 "cells": [
  {
   "cell_type": "markdown",
   "metadata": {},
   "source": [
    "# Quanto mais complexo um modelo de ML mais assertivo ele fica?\n",
    "## Nesta primeira célula vamos realizar os imports\n",
    "<p>Utilizaremos as seguintes bibliotecas para as seguintes funções: \n",
    " <ul>\n",
    " <li> Pandas: para interpretação de arquivos/dados;</li>\n",
    " <li> Matplotlib: para construção de gráficos;</li>\n",
    " <li> Sklearn: afim de importar modelos de ML;</li>\n",
    "     <li> Warnings: para ignorar alguns avisos que o jupyter passa. </li>\n",
    " </ul>\n",
    "</p>"
   ]
  },
  {
   "cell_type": "code",
   "execution_count": 56,
   "metadata": {},
   "outputs": [],
   "source": [
    "import pandas as pd\n",
    "import matplotlib.pyplot as plt\n",
    "from sklearn.tree import DecisionTreeClassifier\n",
    "from sklearn.ensemble import RandomForestClassifier\n",
    "from sklearn.model_selection import train_test_split\n",
    "from sklearn import linear_model,preprocessing\n",
    "import warnings\n",
    "warnings.filterwarnings(\"ignore\")"
   ]
  },
  {
   "cell_type": "markdown",
   "metadata": {},
   "source": [
    "## Já a segunda célula é responsável pela leitura e seleção das características desejadas para o modelo."
   ]
  },
  {
   "cell_type": "code",
   "execution_count": 57,
   "metadata": {},
   "outputs": [
    {
     "data": {
      "text/html": [
       "<div>\n",
       "<style scoped>\n",
       "    .dataframe tbody tr th:only-of-type {\n",
       "        vertical-align: middle;\n",
       "    }\n",
       "\n",
       "    .dataframe tbody tr th {\n",
       "        vertical-align: top;\n",
       "    }\n",
       "\n",
       "    .dataframe thead th {\n",
       "        text-align: right;\n",
       "    }\n",
       "</style>\n",
       "<table border=\"1\" class=\"dataframe\">\n",
       "  <thead>\n",
       "    <tr style=\"text-align: right;\">\n",
       "      <th></th>\n",
       "      <th>Pclass</th>\n",
       "      <th>Sex</th>\n",
       "      <th>Age</th>\n",
       "      <th>SibSp</th>\n",
       "      <th>Parch</th>\n",
       "      <th>Fare</th>\n",
       "      <th>Embarked</th>\n",
       "    </tr>\n",
       "  </thead>\n",
       "  <tbody>\n",
       "    <tr>\n",
       "      <th>0</th>\n",
       "      <td>3</td>\n",
       "      <td>male</td>\n",
       "      <td>22.0</td>\n",
       "      <td>1</td>\n",
       "      <td>0</td>\n",
       "      <td>7.2500</td>\n",
       "      <td>S</td>\n",
       "    </tr>\n",
       "    <tr>\n",
       "      <th>1</th>\n",
       "      <td>1</td>\n",
       "      <td>female</td>\n",
       "      <td>38.0</td>\n",
       "      <td>1</td>\n",
       "      <td>0</td>\n",
       "      <td>71.2833</td>\n",
       "      <td>C</td>\n",
       "    </tr>\n",
       "    <tr>\n",
       "      <th>2</th>\n",
       "      <td>3</td>\n",
       "      <td>female</td>\n",
       "      <td>26.0</td>\n",
       "      <td>0</td>\n",
       "      <td>0</td>\n",
       "      <td>7.9250</td>\n",
       "      <td>S</td>\n",
       "    </tr>\n",
       "  </tbody>\n",
       "</table>\n",
       "</div>"
      ],
      "text/plain": [
       "   Pclass     Sex   Age  SibSp  Parch     Fare Embarked\n",
       "0       3    male  22.0      1      0   7.2500        S\n",
       "1       1  female  38.0      1      0  71.2833        C\n",
       "2       3  female  26.0      0      0   7.9250        S"
      ]
     },
     "execution_count": 57,
     "metadata": {},
     "output_type": "execute_result"
    }
   ],
   "source": [
    "treino = pd.read_csv('../dS/train.csv')\n",
    "teste = pd.read_csv('../dS/test.csv')\n",
    "data_treino = treino.drop(['Name','Ticket','Cabin','PassengerId',],axis=True)\n",
    "data_test = teste.drop(['Name','Ticket','Cabin','PassengerId',],axis=True)\n",
    "data_treino.drop('Survived',axis=1).head(3)"
   ]
  },
  {
   "cell_type": "markdown",
   "metadata": {},
   "source": [
    "## Próximo passo foi quebrar as características em diversas colunas e preencher espaços vazios (para a máquina entender melhor)"
   ]
  },
  {
   "cell_type": "code",
   "execution_count": 58,
   "metadata": {},
   "outputs": [
    {
     "data": {
      "text/html": [
       "<div>\n",
       "<style scoped>\n",
       "    .dataframe tbody tr th:only-of-type {\n",
       "        vertical-align: middle;\n",
       "    }\n",
       "\n",
       "    .dataframe tbody tr th {\n",
       "        vertical-align: top;\n",
       "    }\n",
       "\n",
       "    .dataframe thead th {\n",
       "        text-align: right;\n",
       "    }\n",
       "</style>\n",
       "<table border=\"1\" class=\"dataframe\">\n",
       "  <thead>\n",
       "    <tr style=\"text-align: right;\">\n",
       "      <th></th>\n",
       "      <th>Survived</th>\n",
       "      <th>Pclass</th>\n",
       "      <th>Age</th>\n",
       "      <th>SibSp</th>\n",
       "      <th>Parch</th>\n",
       "      <th>Fare</th>\n",
       "      <th>Sex_female</th>\n",
       "      <th>Sex_male</th>\n",
       "      <th>Embarked_C</th>\n",
       "      <th>Embarked_Q</th>\n",
       "      <th>Embarked_S</th>\n",
       "    </tr>\n",
       "  </thead>\n",
       "  <tbody>\n",
       "    <tr>\n",
       "      <th>0</th>\n",
       "      <td>0</td>\n",
       "      <td>3</td>\n",
       "      <td>22.0</td>\n",
       "      <td>1</td>\n",
       "      <td>0</td>\n",
       "      <td>7.2500</td>\n",
       "      <td>0</td>\n",
       "      <td>1</td>\n",
       "      <td>0</td>\n",
       "      <td>0</td>\n",
       "      <td>1</td>\n",
       "    </tr>\n",
       "    <tr>\n",
       "      <th>1</th>\n",
       "      <td>1</td>\n",
       "      <td>1</td>\n",
       "      <td>38.0</td>\n",
       "      <td>1</td>\n",
       "      <td>0</td>\n",
       "      <td>71.2833</td>\n",
       "      <td>1</td>\n",
       "      <td>0</td>\n",
       "      <td>1</td>\n",
       "      <td>0</td>\n",
       "      <td>0</td>\n",
       "    </tr>\n",
       "    <tr>\n",
       "      <th>2</th>\n",
       "      <td>1</td>\n",
       "      <td>3</td>\n",
       "      <td>26.0</td>\n",
       "      <td>0</td>\n",
       "      <td>0</td>\n",
       "      <td>7.9250</td>\n",
       "      <td>1</td>\n",
       "      <td>0</td>\n",
       "      <td>0</td>\n",
       "      <td>0</td>\n",
       "      <td>1</td>\n",
       "    </tr>\n",
       "  </tbody>\n",
       "</table>\n",
       "</div>"
      ],
      "text/plain": [
       "   Survived  Pclass   Age  SibSp  Parch     Fare  Sex_female  Sex_male  \\\n",
       "0         0       3  22.0      1      0   7.2500           0         1   \n",
       "1         1       1  38.0      1      0  71.2833           1         0   \n",
       "2         1       3  26.0      0      0   7.9250           1         0   \n",
       "\n",
       "   Embarked_C  Embarked_Q  Embarked_S  \n",
       "0           0           0           1  \n",
       "1           1           0           0  \n",
       "2           0           0           1  "
      ]
     },
     "execution_count": 58,
     "metadata": {},
     "output_type": "execute_result"
    }
   ],
   "source": [
    "data_treino = pd .get_dummies(data_treino)\n",
    "data_test = pd .get_dummies(data_test)\n",
    "data_treino['Age'].fillna(data_treino['Age'].mean(),inplace=True)\n",
    "data_treino['Fare'].fillna(data_treino['Fare'].mean(),inplace=True)\n",
    "data_treino.head(3)"
   ]
  },
  {
   "cell_type": "markdown",
   "metadata": {},
   "source": [
    "## Separando os dados em duas partes iguais para poder validar treino e predição"
   ]
  },
  {
   "cell_type": "code",
   "execution_count": 69,
   "metadata": {},
   "outputs": [],
   "source": [
    "np.random.seed(0)\n",
    "x_treino,x_valid=train_test_split(data_treino,test_size=0.5)\n",
    "x_treino1 = x_treino.drop('Survived',axis=True)\n",
    "x_valid1 = x_valid.drop('Survived',axis=True)"
   ]
  },
  {
   "cell_type": "markdown",
   "metadata": {},
   "source": [
    "## Criando o modelo de arvore de decisão com 5 nós"
   ]
  },
  {
   "cell_type": "code",
   "execution_count": 60,
   "metadata": {},
   "outputs": [
    {
     "data": {
      "text/plain": [
       "DecisionTreeClassifier(class_weight=None, criterion='gini', max_depth=5,\n",
       "                       max_features=None, max_leaf_nodes=None,\n",
       "                       min_impurity_decrease=0.0, min_impurity_split=None,\n",
       "                       min_samples_leaf=1, min_samples_split=2,\n",
       "                       min_weight_fraction_leaf=0.0, presort=False,\n",
       "                       random_state=0, splitter='best')"
      ]
     },
     "execution_count": 60,
     "metadata": {},
     "output_type": "execute_result"
    }
   ],
   "source": [
    "arvore= DecisionTreeClassifier(max_depth=5,random_state=0)\n",
    "arvore.fit(x_treino1,x_treino['Survived'])"
   ]
  },
  {
   "cell_type": "markdown",
   "metadata": {},
   "source": [
    "## Realizando um teste score  simples"
   ]
  },
  {
   "cell_type": "code",
   "execution_count": 61,
   "metadata": {},
   "outputs": [
    {
     "data": {
      "text/plain": [
       "0.8026905829596412"
      ]
     },
     "execution_count": 61,
     "metadata": {},
     "output_type": "execute_result"
    }
   ],
   "source": [
    "a = arvore.predict(x_valid1)\n",
    "resultados = pd.DataFrame()\n",
    "resultados['Previsto'] = a\n",
    "np.mean(x_valid['Survived']==a)"
   ]
  },
  {
   "cell_type": "markdown",
   "metadata": {},
   "source": [
    "## Será que mais nós fazer sua assertividade melhor?"
   ]
  },
  {
   "cell_type": "code",
   "execution_count": 73,
   "metadata": {
    "scrolled": true
   },
   "outputs": [
    {
     "data": {
      "image/png": "[encoded data removed]",
      "text/plain": [
       "<Figure size 432x288 with 1 Axes>"
      ]
     },
     "metadata": {
      "needs_background": "light"
     },
     "output_type": "display_data"
    }
   ],
   "source": [
    "performace = []\n",
    "ntreino = []\n",
    "for x in range(1,50):\n",
    "    arvore= DecisionTreeClassifier(max_depth=x,random_state=0)\n",
    "    arvore.fit(x_treino1,x_treino['Survived'])\n",
    "    a = arvore.predict(x_valid1)\n",
    "    resultados = pd.DataFrame()\n",
    "    resultados['Previsto'] = a\n",
    "    j = np.mean(x_valid['Survived']==a)\n",
    "    performace.append(j)\n",
    "    ntreino.append(x)\n",
    "plt.title('Desempenho ao longo dos treinos')\n",
    "plt.xlabel('Treinos')\n",
    "plt.ylabel('Precisão')\n",
    "plt.grid(alpha=0.4)\n",
    "plt.axvline(19, color='Blue', alpha=0.75,linestyle='--',label='Overfitting')\n",
    "plt.plot(ntreino,performace, color='#2f9e41')\n",
    "plt.savefig('ArvoreD.png')"
   ]
  },
  {
   "cell_type": "markdown",
   "metadata": {},
   "source": [
    "## O mesmo comportamento se repete no modelo Floresta randômica ?"
   ]
  },
  {
   "cell_type": "code",
   "execution_count": 63,
   "metadata": {},
   "outputs": [
    {
     "data": {
      "image/png": "[encoded data removed]",
      "text/plain": [
       "<Figure size 432x288 with 1 Axes>"
      ]
     },
     "metadata": {
      "needs_background": "light"
     },
     "output_type": "display_data"
    }
   ],
   "source": [
    "rperformace = []\n",
    "rntreino = []\n",
    "for x in range(1,50):\n",
    "    rArvore = RandomForestClassifier(n_estimators=x,n_jobs=-1,random_state=0)\n",
    "    rArvore.fit(x_treino1,x_treino['Survived'])\n",
    "    a = rArvore.predict(x_valid1)\n",
    "    resultados = pd.DataFrame()\n",
    "    resultados['Previsto'] = a\n",
    "    j = np.mean(x_valid['Survived']==a)\n",
    "    rperformace.append(j)\n",
    "    rntreino.append(x)\n",
    "plt.title('Desempenho ao longo dos treinos')\n",
    "plt.xlabel('Treinos')\n",
    "plt.ylabel('Precisão')\n",
    "plt.grid(alpha=0.4)\n",
    "plt.plot(rntreino,rperformace, color='#2f9e41')\n",
    "plt.savefig('FlorestaR.png')"
   ]
  },
  {
   "cell_type": "markdown",
   "metadata": {},
   "source": [
    "## E para o modelo de regressão linear ?"
   ]
  },
  {
   "cell_type": "code",
   "execution_count": 64,
   "metadata": {
    "scrolled": false
   },
   "outputs": [
    {
     "data": {
      "image/png": "[encoded data removed]",
      "text/plain": [
       "<Figure size 432x288 with 1 Axes>"
      ]
     },
     "metadata": {
      "needs_background": "light"
     },
     "output_type": "display_data"
    }
   ],
   "source": [
    "lperformace = []\n",
    "lntreino = []\n",
    "for x in range(1,20):\n",
    "    linha = linear_model.LogisticRegression()\n",
    "    linha.fit(x_treino1,x_treino['Survived'])\n",
    "    a = linha.predict(x_valid1)\n",
    "    resultados = pd.DataFrame()\n",
    "    resultados['Previsto'] = a\n",
    "    j = np.mean(x_valid['Survived']==a)\n",
    "    lperformace.append(j)\n",
    "    lntreino.append(x)\n",
    "plt.title('Desempenho ao longo dos treinos')\n",
    "plt.xlabel('Treinos')\n",
    "plt.ylabel('Precisão')\n",
    "plt.grid(alpha=0.4)\n",
    "plt.plot(lntreino,lperformace, color='#2f9e41')\n",
    "plt.savefig('RegressãoL.png')"
   ]
  }
 ],
 "metadata": {
  "kernelspec": {
   "display_name": "Python 3",
   "language": "python",
   "name": "python3"
  },
  "language_info": {
   "codemirror_mode": {
    "name": "ipython",
    "version": 3
   },
   "file_extension": ".py",
   "mimetype": "text/x-python",
   "name": "python",
   "nbconvert_exporter": "python",
   "pygments_lexer": "ipython3",
   "version": "3.7.3"
  }
 },
 "nbformat": 4,
 "nbformat_minor": 2
}
